{
 "cells": [
  {
   "cell_type": "code",
   "execution_count": 6,
   "metadata": {},
   "outputs": [],
   "source": [
    "import numpy as np\n",
    "import pandas as pd\n",
    "%matplotlib inline\n",
    "import matplotlib as mpl\n",
    "import matplotlib.pyplot as plt"
   ]
  },
  {
   "cell_type": "code",
   "execution_count": 7,
   "metadata": {},
   "outputs": [],
   "source": [
    "import tensorflow as tf\n",
    "from tensorflow import keras"
   ]
  },
  {
   "cell_type": "code",
   "execution_count": 10,
   "metadata": {},
   "outputs": [
    {
     "name": "stdout",
     "output_type": "stream",
     "text": [
      "Collecting scikit-learn\n",
      "  Downloading scikit_learn-1.3.0-cp39-cp39-win_amd64.whl (9.3 MB)\n",
      "                                              0.0/9.3 MB ? eta -:--:--\n",
      "                                              0.1/9.3 MB 2.6 MB/s eta 0:00:04\n",
      "     -                                        0.3/9.3 MB 4.1 MB/s eta 0:00:03\n",
      "     --                                       0.7/9.3 MB 5.3 MB/s eta 0:00:02\n",
      "     ----                                     1.0/9.3 MB 5.0 MB/s eta 0:00:02\n",
      "     ------                                   1.4/9.3 MB 5.7 MB/s eta 0:00:02\n",
      "     ------                                   1.6/9.3 MB 5.9 MB/s eta 0:00:02\n",
      "     ---------                                2.2/9.3 MB 6.7 MB/s eta 0:00:02\n",
      "     -----------                              2.6/9.3 MB 6.9 MB/s eta 0:00:01\n",
      "     ------------                             2.9/9.3 MB 6.8 MB/s eta 0:00:01\n",
      "     --------------                           3.3/9.3 MB 7.3 MB/s eta 0:00:01\n",
      "     ----------------                         3.8/9.3 MB 7.6 MB/s eta 0:00:01\n",
      "     ------------------                       4.4/9.3 MB 8.0 MB/s eta 0:00:01\n",
      "     --------------------                     4.9/9.3 MB 8.0 MB/s eta 0:00:01\n",
      "     -----------------------                  5.4/9.3 MB 8.4 MB/s eta 0:00:01\n",
      "     -------------------------                5.9/9.3 MB 8.4 MB/s eta 0:00:01\n",
      "     --------------------------               6.3/9.3 MB 8.6 MB/s eta 0:00:01\n",
      "     ---------------------------              6.4/9.3 MB 8.5 MB/s eta 0:00:01\n",
      "     ----------------------------             6.7/9.3 MB 8.0 MB/s eta 0:00:01\n",
      "     -----------------------------            6.8/9.3 MB 7.7 MB/s eta 0:00:01\n",
      "     -----------------------------            6.9/9.3 MB 7.5 MB/s eta 0:00:01\n",
      "     -----------------------------            7.0/9.3 MB 7.2 MB/s eta 0:00:01\n",
      "     ------------------------------           7.1/9.3 MB 7.0 MB/s eta 0:00:01\n",
      "     ------------------------------           7.2/9.3 MB 6.8 MB/s eta 0:00:01\n",
      "     -------------------------------          7.3/9.3 MB 6.6 MB/s eta 0:00:01\n",
      "     --------------------------------         7.5/9.3 MB 6.4 MB/s eta 0:00:01\n",
      "     --------------------------------         7.6/9.3 MB 6.3 MB/s eta 0:00:01\n",
      "     --------------------------------         7.7/9.3 MB 6.1 MB/s eta 0:00:01\n",
      "     ---------------------------------        7.7/9.3 MB 5.9 MB/s eta 0:00:01\n",
      "     ---------------------------------        7.8/9.3 MB 5.9 MB/s eta 0:00:01\n",
      "     ---------------------------------        7.9/9.3 MB 5.6 MB/s eta 0:00:01\n",
      "     ---------------------------------        7.9/9.3 MB 5.6 MB/s eta 0:00:01\n",
      "     ----------------------------------       8.0/9.3 MB 5.4 MB/s eta 0:00:01\n",
      "     ----------------------------------       8.0/9.3 MB 5.4 MB/s eta 0:00:01\n",
      "     ----------------------------------       8.0/9.3 MB 5.1 MB/s eta 0:00:01\n",
      "     ----------------------------------       8.0/9.3 MB 4.9 MB/s eta 0:00:01\n",
      "     ----------------------------------       8.0/9.3 MB 4.8 MB/s eta 0:00:01\n",
      "     ----------------------------------       8.1/9.3 MB 4.6 MB/s eta 0:00:01\n",
      "     ----------------------------------       8.1/9.3 MB 4.6 MB/s eta 0:00:01\n",
      "     ----------------------------------       8.1/9.3 MB 4.5 MB/s eta 0:00:01\n",
      "     ----------------------------------       8.1/9.3 MB 4.4 MB/s eta 0:00:01\n",
      "     ----------------------------------       8.1/9.3 MB 4.3 MB/s eta 0:00:01\n",
      "     ----------------------------------       8.1/9.3 MB 4.3 MB/s eta 0:00:01\n",
      "     ----------------------------------       8.2/9.3 MB 4.1 MB/s eta 0:00:01\n",
      "     -----------------------------------      8.2/9.3 MB 4.0 MB/s eta 0:00:01\n",
      "     -----------------------------------      8.2/9.3 MB 4.0 MB/s eta 0:00:01\n",
      "     -----------------------------------      8.2/9.3 MB 3.9 MB/s eta 0:00:01\n",
      "     -----------------------------------      8.2/9.3 MB 3.8 MB/s eta 0:00:01\n",
      "     -----------------------------------      8.3/9.3 MB 3.7 MB/s eta 0:00:01\n",
      "     -----------------------------------      8.3/9.3 MB 3.6 MB/s eta 0:00:01\n",
      "     -----------------------------------      8.3/9.3 MB 3.6 MB/s eta 0:00:01\n",
      "     -----------------------------------      8.3/9.3 MB 3.5 MB/s eta 0:00:01\n",
      "     -----------------------------------      8.3/9.3 MB 3.4 MB/s eta 0:00:01\n",
      "     -----------------------------------      8.4/9.3 MB 3.4 MB/s eta 0:00:01\n",
      "     ------------------------------------     8.4/9.3 MB 3.3 MB/s eta 0:00:01\n",
      "     ------------------------------------     8.4/9.3 MB 3.3 MB/s eta 0:00:01\n",
      "     ------------------------------------     8.5/9.3 MB 3.2 MB/s eta 0:00:01\n",
      "     ------------------------------------     8.5/9.3 MB 3.2 MB/s eta 0:00:01\n",
      "Note: you may need to restart the kernel to use updated packages.\n",
      "     ------------------------------------     8.6/9.3 MB 3.1 MB/s eta 0:00:01\n",
      "     ------------------------------------     8.6/9.3 MB 3.1 MB/s eta 0:00:01\n",
      "     -------------------------------------    8.6/9.3 MB 3.1 MB/s eta 0:00:01\n",
      "     -------------------------------------    8.7/9.3 MB 3.0 MB/s eta 0:00:01\n",
      "     -------------------------------------    8.7/9.3 MB 3.0 MB/s eta 0:00:01\n",
      "     -------------------------------------    8.8/9.3 MB 3.0 MB/s eta 0:00:01\n",
      "     -------------------------------------    8.8/9.3 MB 2.9 MB/s eta 0:00:01\n",
      "     --------------------------------------   8.9/9.3 MB 2.9 MB/s eta 0:00:01\n",
      "     --------------------------------------   8.9/9.3 MB 2.9 MB/s eta 0:00:01\n",
      "     --------------------------------------   9.0/9.3 MB 2.9 MB/s eta 0:00:01\n",
      "     --------------------------------------   9.0/9.3 MB 2.8 MB/s eta 0:00:01\n",
      "     --------------------------------------   9.1/9.3 MB 2.8 MB/s eta 0:00:01\n",
      "     ---------------------------------------  9.1/9.3 MB 2.8 MB/s eta 0:00:01\n",
      "     ---------------------------------------  9.2/9.3 MB 2.8 MB/s eta 0:00:01\n",
      "     ---------------------------------------  9.3/9.3 MB 2.7 MB/s eta 0:00:01\n",
      "     ---------------------------------------  9.3/9.3 MB 2.7 MB/s eta 0:00:01\n",
      "     ---------------------------------------- 9.3/9.3 MB 2.7 MB/s eta 0:00:00\n",
      "Requirement already satisfied: numpy>=1.17.3 in c:\\users\\dell\\anaconda3\\envs\\tenserflow\\lib\\site-packages (from scikit-learn) (1.25.0)\n",
      "Requirement already satisfied: scipy>=1.5.0 in c:\\users\\dell\\anaconda3\\envs\\tenserflow\\lib\\site-packages (from scikit-learn) (1.10.1)\n",
      "Collecting joblib>=1.1.1 (from scikit-learn)\n",
      "  Downloading joblib-1.3.1-py3-none-any.whl (301 kB)\n",
      "                                              0.0/302.0 kB ? eta -:--:--\n",
      "     ---------                               71.7/302.0 kB 1.3 MB/s eta 0:00:01\n",
      "     ------------------                     143.4/302.0 kB 1.7 MB/s eta 0:00:01\n",
      "     ----------------------------           225.3/302.0 kB 1.5 MB/s eta 0:00:01\n",
      "     ------------------------------------   286.7/302.0 kB 1.6 MB/s eta 0:00:01\n",
      "     -------------------------------------- 302.0/302.0 kB 1.4 MB/s eta 0:00:00\n",
      "Collecting threadpoolctl>=2.0.0 (from scikit-learn)\n",
      "  Downloading threadpoolctl-3.2.0-py3-none-any.whl (15 kB)\n",
      "Installing collected packages: threadpoolctl, joblib, scikit-learn\n",
      "Successfully installed joblib-1.3.1 scikit-learn-1.3.0 threadpoolctl-3.2.0\n"
     ]
    }
   ],
   "source": [
    "pip install scikit-learn"
   ]
  },
  {
   "cell_type": "code",
   "execution_count": 11,
   "metadata": {},
   "outputs": [],
   "source": [
    "from sklearn import datasets"
   ]
  },
  {
   "cell_type": "code",
   "execution_count": 12,
   "metadata": {},
   "outputs": [],
   "source": [
    "from sklearn.datasets import fetch_california_housing\n",
    "housing = fetch_california_housing()"
   ]
  },
  {
   "cell_type": "code",
   "execution_count": 13,
   "metadata": {},
   "outputs": [
    {
     "data": {
      "text/plain": [
       "{'data': array([[   8.3252    ,   41.        ,    6.98412698, ...,    2.55555556,\n",
       "           37.88      , -122.23      ],\n",
       "        [   8.3014    ,   21.        ,    6.23813708, ...,    2.10984183,\n",
       "           37.86      , -122.22      ],\n",
       "        [   7.2574    ,   52.        ,    8.28813559, ...,    2.80225989,\n",
       "           37.85      , -122.24      ],\n",
       "        ...,\n",
       "        [   1.7       ,   17.        ,    5.20554273, ...,    2.3256351 ,\n",
       "           39.43      , -121.22      ],\n",
       "        [   1.8672    ,   18.        ,    5.32951289, ...,    2.12320917,\n",
       "           39.43      , -121.32      ],\n",
       "        [   2.3886    ,   16.        ,    5.25471698, ...,    2.61698113,\n",
       "           39.37      , -121.24      ]]),\n",
       " 'target': array([4.526, 3.585, 3.521, ..., 0.923, 0.847, 0.894]),\n",
       " 'frame': None,\n",
       " 'target_names': ['MedHouseVal'],\n",
       " 'feature_names': ['MedInc',\n",
       "  'HouseAge',\n",
       "  'AveRooms',\n",
       "  'AveBedrms',\n",
       "  'Population',\n",
       "  'AveOccup',\n",
       "  'Latitude',\n",
       "  'Longitude'],\n",
       " 'DESCR': '.. _california_housing_dataset:\\n\\nCalifornia Housing dataset\\n--------------------------\\n\\n**Data Set Characteristics:**\\n\\n    :Number of Instances: 20640\\n\\n    :Number of Attributes: 8 numeric, predictive attributes and the target\\n\\n    :Attribute Information:\\n        - MedInc        median income in block group\\n        - HouseAge      median house age in block group\\n        - AveRooms      average number of rooms per household\\n        - AveBedrms     average number of bedrooms per household\\n        - Population    block group population\\n        - AveOccup      average number of household members\\n        - Latitude      block group latitude\\n        - Longitude     block group longitude\\n\\n    :Missing Attribute Values: None\\n\\nThis dataset was obtained from the StatLib repository.\\nhttps://www.dcc.fc.up.pt/~ltorgo/Regression/cal_housing.html\\n\\nThe target variable is the median house value for California districts,\\nexpressed in hundreds of thousands of dollars ($100,000).\\n\\nThis dataset was derived from the 1990 U.S. census, using one row per census\\nblock group. A block group is the smallest geographical unit for which the U.S.\\nCensus Bureau publishes sample data (a block group typically has a population\\nof 600 to 3,000 people).\\n\\nA household is a group of people residing within a home. Since the average\\nnumber of rooms and bedrooms in this dataset are provided per household, these\\ncolumns may take surprisingly large values for block groups with few households\\nand many empty houses, such as vacation resorts.\\n\\nIt can be downloaded/loaded using the\\n:func:`sklearn.datasets.fetch_california_housing` function.\\n\\n.. topic:: References\\n\\n    - Pace, R. Kelley and Ronald Barry, Sparse Spatial Autoregressions,\\n      Statistics and Probability Letters, 33 (1997) 291-297\\n'}"
      ]
     },
     "execution_count": 13,
     "metadata": {},
     "output_type": "execute_result"
    }
   ],
   "source": [
    "housing"
   ]
  },
  {
   "cell_type": "markdown",
   "metadata": {},
   "source": [
    "### Data Set Characteristics:\n",
    "\n",
    "##### Number of Instances:\n",
    " \t\n",
    "20640\n",
    "\n",
    "##### Number of Attributes:\n",
    " \t\n",
    "8 numeric, predictive attributes and the target\n",
    "\n",
    "##### Attribute Information:\n",
    " \t\n",
    "* MedInc median income in block\n",
    "* HouseAge median house age in block\n",
    "* AveRooms average number of rooms\n",
    "* AveBedrms average number of bedrooms\n",
    "* Population block population\n",
    "* AveOccup average house occupancy\n",
    "* Latitude house block latitude\n",
    "* Longitude house block longitude\n",
    "\n",
    "#### Target\n",
    "\n",
    "The target variable is the median house value in units of 100,000 for California districts.\n",
    "\n",
    "#### Documentation \n",
    "https://scikit-learn.org/stable/modules/generated/sklearn.datasets.fetch_california_housing.html#examples-using-sklearn-datasets-fetch-california-housing"
   ]
  },
  {
   "cell_type": "code",
   "execution_count": 7,
   "metadata": {},
   "outputs": [
    {
     "name": "stdout",
     "output_type": "stream",
     "text": [
      "['MedInc', 'HouseAge', 'AveRooms', 'AveBedrms', 'Population', 'AveOccup', 'Latitude', 'Longitude']\n"
     ]
    }
   ],
   "source": [
    "print(housing.feature_names)"
   ]
  },
  {
   "cell_type": "code",
   "execution_count": 8,
   "metadata": {},
   "outputs": [],
   "source": [
    "from sklearn.model_selection import train_test_split\n",
    "X_train_full, X_test, y_train_full, y_test = train_test_split(housing.data, housing.target, random_state=42)\n",
    "X_train, X_valid, y_train, y_valid = train_test_split(X_train_full, y_train_full, random_state=42)"
   ]
  },
  {
   "cell_type": "code",
   "execution_count": 9,
   "metadata": {},
   "outputs": [],
   "source": [
    "from sklearn.preprocessing import StandardScaler\n",
    "scaler = StandardScaler()\n",
    "X_train = scaler.fit_transform(X_train)\n",
    "X_valid = scaler.transform(X_valid)\n",
    "X_test = scaler.transform(X_test)"
   ]
  },
  {
   "cell_type": "code",
   "execution_count": 10,
   "metadata": {},
   "outputs": [],
   "source": [
    "# To Generate the same results\n",
    "np.random.seed(42)\n",
    "tf.random.set_seed(42)"
   ]
  },
  {
   "cell_type": "code",
   "execution_count": 11,
   "metadata": {},
   "outputs": [
    {
     "data": {
      "text/plain": [
       "(11610, 8)"
      ]
     },
     "execution_count": 11,
     "metadata": {},
     "output_type": "execute_result"
    }
   ],
   "source": [
    "X_train.shape"
   ]
  },
  {
   "cell_type": "code",
   "execution_count": 12,
   "metadata": {},
   "outputs": [
    {
     "data": {
      "text/plain": [
       "(11610,)"
      ]
     },
     "execution_count": 12,
     "metadata": {},
     "output_type": "execute_result"
    }
   ],
   "source": [
    "y_train.shape"
   ]
  },
  {
   "cell_type": "markdown",
   "metadata": {},
   "source": [
    "![](Seq_api.png \"Title\")"
   ]
  },
  {
   "cell_type": "code",
   "execution_count": 26,
   "metadata": {},
   "outputs": [],
   "source": [
    "model = keras.models.Sequential([\n",
    "    keras.layers.Dense(30, activation='relu', input_shape=[8]),\n",
    "    keras.layers.Dense(30, activation=\"relu\"),\n",
    "    keras.layers.Dense(1)\n",
    "])\n",
    "# keras.layers.Dense(30, activation=\"relu\", input_shape=X_train.shape[1:])"
   ]
  },
  {
   "cell_type": "code",
   "execution_count": 27,
   "metadata": {},
   "outputs": [
    {
     "name": "stdout",
     "output_type": "stream",
     "text": [
      "Model: \"sequential_5\"\n",
      "_________________________________________________________________\n",
      " Layer (type)                Output Shape              Param #   \n",
      "=================================================================\n",
      " dense_17 (Dense)            (None, 30)                270       \n",
      "                                                                 \n",
      " dense_18 (Dense)            (None, 30)                930       \n",
      "                                                                 \n",
      " dense_19 (Dense)            (None, 1)                 31        \n",
      "                                                                 \n",
      "=================================================================\n",
      "Total params: 1,231\n",
      "Trainable params: 1,231\n",
      "Non-trainable params: 0\n",
      "_________________________________________________________________\n"
     ]
    }
   ],
   "source": [
    "model.summary()"
   ]
  },
  {
   "cell_type": "code",
   "execution_count": 36,
   "metadata": {},
   "outputs": [],
   "source": [
    "model.compile(loss=\"mean_squared_error\", \n",
    "              optimizer=keras.optimizers.SGD(learning_rate=1e-3), \n",
    "              metrics=['mae'])"
   ]
  },
  {
   "cell_type": "code",
   "execution_count": 41,
   "metadata": {},
   "outputs": [
    {
     "name": "stdout",
     "output_type": "stream",
     "text": [
      "Epoch 1/20\n",
      "363/363 [==============================] - 1s 2ms/step - loss: 0.3327 - mae: 0.4061 - val_loss: 0.3211 - val_mae: 0.3982\n",
      "Epoch 2/20\n",
      "363/363 [==============================] - 1s 1ms/step - loss: 0.3318 - mae: 0.4055 - val_loss: 0.4815 - val_mae: 0.4112\n",
      "Epoch 3/20\n",
      "363/363 [==============================] - 1s 1ms/step - loss: 0.3323 - mae: 0.4057 - val_loss: 0.3172 - val_mae: 0.3960\n",
      "Epoch 4/20\n",
      "363/363 [==============================] - 1s 2ms/step - loss: 0.3309 - mae: 0.4048 - val_loss: 0.3455 - val_mae: 0.4022\n",
      "Epoch 5/20\n",
      "363/363 [==============================] - 1s 2ms/step - loss: 0.3304 - mae: 0.4042 - val_loss: 0.3161 - val_mae: 0.3976\n",
      "Epoch 6/20\n",
      "363/363 [==============================] - 1s 2ms/step - loss: 0.3298 - mae: 0.4046 - val_loss: 0.3457 - val_mae: 0.3983\n",
      "Epoch 7/20\n",
      "363/363 [==============================] - 1s 2ms/step - loss: 0.3296 - mae: 0.4034 - val_loss: 0.3160 - val_mae: 0.3967\n",
      "Epoch 8/20\n",
      "363/363 [==============================] - 1s 2ms/step - loss: 0.3289 - mae: 0.4036 - val_loss: 0.3289 - val_mae: 0.3969\n",
      "Epoch 9/20\n",
      "363/363 [==============================] - 1s 2ms/step - loss: 0.3284 - mae: 0.4031 - val_loss: 0.3363 - val_mae: 0.3964\n",
      "Epoch 10/20\n",
      "363/363 [==============================] - 1s 2ms/step - loss: 0.3279 - mae: 0.4028 - val_loss: 0.3266 - val_mae: 0.3948\n",
      "Epoch 11/20\n",
      "363/363 [==============================] - 1s 2ms/step - loss: 0.3275 - mae: 0.4021 - val_loss: 0.3168 - val_mae: 0.3948\n",
      "Epoch 12/20\n",
      "363/363 [==============================] - 1s 4ms/step - loss: 0.3271 - mae: 0.4023 - val_loss: 0.4338 - val_mae: 0.4018\n",
      "Epoch 13/20\n",
      "363/363 [==============================] - 1s 3ms/step - loss: 0.3270 - mae: 0.4017 - val_loss: 0.3132 - val_mae: 0.3966\n",
      "Epoch 14/20\n",
      "363/363 [==============================] - 1s 4ms/step - loss: 0.3260 - mae: 0.4013 - val_loss: 0.3224 - val_mae: 0.3965\n",
      "Epoch 15/20\n",
      "363/363 [==============================] - 1s 3ms/step - loss: 0.3256 - mae: 0.4011 - val_loss: 0.3561 - val_mae: 0.3983\n",
      "Epoch 16/20\n",
      "363/363 [==============================] - 1s 2ms/step - loss: 0.3257 - mae: 0.4010 - val_loss: 0.3500 - val_mae: 0.3977\n",
      "Epoch 17/20\n",
      "363/363 [==============================] - 1s 2ms/step - loss: 0.3253 - mae: 0.4011 - val_loss: 0.4349 - val_mae: 0.4010\n",
      "Epoch 18/20\n",
      "363/363 [==============================] - 1s 2ms/step - loss: 0.3250 - mae: 0.4004 - val_loss: 0.3107 - val_mae: 0.3911\n",
      "Epoch 19/20\n",
      "363/363 [==============================] - 1s 2ms/step - loss: 0.3239 - mae: 0.3999 - val_loss: 0.3293 - val_mae: 0.3936\n",
      "Epoch 20/20\n",
      "363/363 [==============================] - 1s 2ms/step - loss: 0.3236 - mae: 0.3994 - val_loss: 0.3723 - val_mae: 0.3982\n"
     ]
    }
   ],
   "source": [
    "model_history = model.fit(X_train, y_train, epochs=20, validation_data=(X_valid, y_valid))"
   ]
  },
  {
   "cell_type": "code",
   "execution_count": 42,
   "metadata": {},
   "outputs": [
    {
     "name": "stdout",
     "output_type": "stream",
     "text": [
      "162/162 [==============================] - 0s 2ms/step - loss: 0.3326 - mae: 0.4044\n"
     ]
    }
   ],
   "source": [
    "mae_test = model.evaluate(X_test, y_test)\n"
   ]
  },
  {
   "cell_type": "code",
   "execution_count": 43,
   "metadata": {
    "scrolled": true
   },
   "outputs": [
    {
     "data": {
      "text/plain": [
       "{'loss': [0.33268070220947266,\n",
       "  0.33178871870040894,\n",
       "  0.3323153555393219,\n",
       "  0.33089494705200195,\n",
       "  0.3303995132446289,\n",
       "  0.32980817556381226,\n",
       "  0.3295752704143524,\n",
       "  0.3288743793964386,\n",
       "  0.32835936546325684,\n",
       "  0.3279134929180145,\n",
       "  0.3275478780269623,\n",
       "  0.3270934224128723,\n",
       "  0.3270292282104492,\n",
       "  0.32603585720062256,\n",
       "  0.3255774974822998,\n",
       "  0.32568836212158203,\n",
       "  0.32533350586891174,\n",
       "  0.324984610080719,\n",
       "  0.3238905370235443,\n",
       "  0.3235563039779663],\n",
       " 'mae': [0.4061126708984375,\n",
       "  0.4054632782936096,\n",
       "  0.4056718945503235,\n",
       "  0.40484634041786194,\n",
       "  0.40418675541877747,\n",
       "  0.40457066893577576,\n",
       "  0.4034433364868164,\n",
       "  0.4035598337650299,\n",
       "  0.40310412645339966,\n",
       "  0.40279901027679443,\n",
       "  0.40208035707473755,\n",
       "  0.4023244082927704,\n",
       "  0.40173229575157166,\n",
       "  0.4012841284275055,\n",
       "  0.4011062681674957,\n",
       "  0.4010135233402252,\n",
       "  0.40114066004753113,\n",
       "  0.40038877725601196,\n",
       "  0.39989766478538513,\n",
       "  0.399381548166275],\n",
       " 'val_loss': [0.321118026971817,\n",
       "  0.4815210998058319,\n",
       "  0.31720635294914246,\n",
       "  0.3454613983631134,\n",
       "  0.31612199544906616,\n",
       "  0.3456757664680481,\n",
       "  0.31602829694747925,\n",
       "  0.32885947823524475,\n",
       "  0.33631277084350586,\n",
       "  0.32660746574401855,\n",
       "  0.3168084919452667,\n",
       "  0.43380996584892273,\n",
       "  0.31324461102485657,\n",
       "  0.3224133253097534,\n",
       "  0.35611778497695923,\n",
       "  0.34999552369117737,\n",
       "  0.43494486808776855,\n",
       "  0.3107268810272217,\n",
       "  0.32930976152420044,\n",
       "  0.3723050653934479],\n",
       " 'val_mae': [0.39820989966392517,\n",
       "  0.4112315773963928,\n",
       "  0.3960210084915161,\n",
       "  0.4021577537059784,\n",
       "  0.39761465787887573,\n",
       "  0.39830538630485535,\n",
       "  0.39670076966285706,\n",
       "  0.39688679575920105,\n",
       "  0.39638179540634155,\n",
       "  0.3948465883731842,\n",
       "  0.3948020935058594,\n",
       "  0.4017623960971832,\n",
       "  0.3965783715248108,\n",
       "  0.39651429653167725,\n",
       "  0.3983340859413147,\n",
       "  0.3977370262145996,\n",
       "  0.4010290503501892,\n",
       "  0.3911063075065613,\n",
       "  0.3936034142971039,\n",
       "  0.3982000946998596]}"
      ]
     },
     "execution_count": 43,
     "metadata": {},
     "output_type": "execute_result"
    }
   ],
   "source": [
    "model_history.history"
   ]
  },
  {
   "cell_type": "markdown",
   "metadata": {},
   "source": [
    "### There is a decreasing treand in the loss, it can be further brought down by increasing the epochs. Keras has the advantage of storing the previous results hence we dont have to increase the epoch numbers, just reruning it will make it 40 epochs. Picks up from the last value where it stopped. The loss function further goes down if there is scope for convergence"
   ]
  },
  {
   "cell_type": "code",
   "execution_count": 44,
   "metadata": {
    "scrolled": true
   },
   "outputs": [
    {
     "data": {
      "image/png": "[encoded data removed]",
      "text/plain": [
       "<Figure size 800x500 with 1 Axes>"
      ]
     },
     "metadata": {},
     "output_type": "display_data"
    }
   ],
   "source": [
    "# Plotting the loss and mae values to check convergence\n",
    "pd.DataFrame(model_history.history).plot(figsize=(8, 5))\n",
    "plt.grid(True)\n",
    "plt.gca().set_ylim(0, 1)\n",
    "\n",
    "plt.show()"
   ]
  },
  {
   "cell_type": "code",
   "execution_count": null,
   "metadata": {},
   "outputs": [],
   "source": [
    "# If you rerun the model_history one more time than the number of epochs will be 40. Picks up from the last value where it stopped. The loss function further goes down if there is scope for convergence"
   ]
  },
  {
   "cell_type": "code",
   "execution_count": 45,
   "metadata": {},
   "outputs": [],
   "source": [
    "X_new = X_test[:3]"
   ]
  },
  {
   "cell_type": "code",
   "execution_count": 46,
   "metadata": {},
   "outputs": [
    {
     "data": {
      "text/plain": [
       "array([[-1.15780104, -0.28673138, -0.49550877, -0.16618097, -0.02946012,\n",
       "         0.38899735,  0.19374821,  0.2870474 ],\n",
       "       [-0.7125531 ,  0.10880952, -0.16332973,  0.20164652,  0.12842117,\n",
       "        -0.11818174, -0.23725261,  0.06215231],\n",
       "       [-0.2156101 ,  1.8491895 , -0.57982788,  0.18528489, -0.10429403,\n",
       "        -0.67694905,  1.00890193, -1.4271529 ]])"
      ]
     },
     "execution_count": 46,
     "metadata": {},
     "output_type": "execute_result"
    }
   ],
   "source": [
    "X_new"
   ]
  },
  {
   "cell_type": "code",
   "execution_count": 47,
   "metadata": {},
   "outputs": [
    {
     "name": "stdout",
     "output_type": "stream",
     "text": [
      "1/1 [==============================] - 0s 188ms/step\n",
      "[[0.5067209]\n",
      " [1.5270668]\n",
      " [4.3237834]]\n",
      "[0.477   0.458   5.00001]\n"
     ]
    }
   ],
   "source": [
    "y_pred = model.predict(X_new)\n",
    "print (y_pred)\n",
    "print(y_test[:3])"
   ]
  },
  {
   "cell_type": "markdown",
   "metadata": {},
   "source": [
    "## The previous model is build using the sequential approach, Now lets look at the functional API. Here some simple white patterens can be distorted in the sequential process so we will also pass the input to a layer before the output and concat it. In the process we are extracting complex patterns through deep learning(sequential) and also the white patterns through wide learning."
   ]
  },
  {
   "cell_type": "code",
   "execution_count": 48,
   "metadata": {},
   "outputs": [],
   "source": [
    "# Lets delete the previous model to free up some resources for the next model training\n",
    "del model"
   ]
  },
  {
   "cell_type": "code",
   "execution_count": 49,
   "metadata": {},
   "outputs": [],
   "source": [
    "keras.backend.clear_session()"
   ]
  },
  {
   "cell_type": "markdown",
   "metadata": {},
   "source": [
    "# Functional API"
   ]
  },
  {
   "cell_type": "markdown",
   "metadata": {},
   "source": [
    "Not all neural network models are simply sequential. Some may have complex topologies. Some may have multiple inputs and/or multiple outputs. For example, a Wide & Deep neural network (see [paper](https://ai.google/research/pubs/pub45413)) connects all or part of the inputs directly to the output layer.\n",
    "\n",
    "![](Functional.JPG \"Title\")"
   ]
  },
  {
   "cell_type": "code",
   "execution_count": 39,
   "metadata": {},
   "outputs": [
    {
     "data": {
      "text/plain": [
       "(8,)"
      ]
     },
     "execution_count": 39,
     "metadata": {},
     "output_type": "execute_result"
    }
   ],
   "source": [
    "X_train.shape[1:]"
   ]
  },
  {
   "cell_type": "code",
   "execution_count": 51,
   "metadata": {},
   "outputs": [],
   "source": [
    "INput_ = keras.layers.Input(shape=X_train.shape[1:])\n",
    "hidden1 = keras.layers.Dense(30, activation=\"relu\")(INput_)  # I/p given here as a function, hence its called Functional API\n",
    "hidden2 = keras.layers.Dense(30, activation=\"relu\")(hidden1)\n",
    "concat = keras.layers.concatenate([INput_, hidden2])\n",
    "output = keras.layers.Dense(1)(concat)\n",
    "model = keras.models.Model(inputs=[INput_], outputs=[output])"
   ]
  },
  {
   "cell_type": "code",
   "execution_count": 52,
   "metadata": {},
   "outputs": [
    {
     "name": "stdout",
     "output_type": "stream",
     "text": [
      "Model: \"model\"\n",
      "__________________________________________________________________________________________________\n",
      " Layer (type)                   Output Shape         Param #     Connected to                     \n",
      "==================================================================================================\n",
      " input_2 (InputLayer)           [(None, 8)]          0           []                               \n",
      "                                                                                                  \n",
      " dense_2 (Dense)                (None, 30)           270         ['input_2[0][0]']                \n",
      "                                                                                                  \n",
      " dense_3 (Dense)                (None, 30)           930         ['dense_2[0][0]']                \n",
      "                                                                                                  \n",
      " concatenate (Concatenate)      (None, 38)           0           ['input_2[0][0]',                \n",
      "                                                                  'dense_3[0][0]']                \n",
      "                                                                                                  \n",
      " dense_4 (Dense)                (None, 1)            39          ['concatenate[0][0]']            \n",
      "                                                                                                  \n",
      "==================================================================================================\n",
      "Total params: 1,239\n",
      "Trainable params: 1,239\n",
      "Non-trainable params: 0\n",
      "__________________________________________________________________________________________________\n"
     ]
    }
   ],
   "source": [
    "model.summary()"
   ]
  },
  {
   "cell_type": "code",
   "execution_count": 53,
   "metadata": {},
   "outputs": [],
   "source": [
    "model.compile(loss=\"mean_squared_error\", \n",
    "              optimizer=keras.optimizers.SGD(learning_rate=1e-3), \n",
    "              metrics=['mae'])"
   ]
  },
  {
   "cell_type": "code",
   "execution_count": 50,
   "metadata": {},
   "outputs": [
    {
     "name": "stdout",
     "output_type": "stream",
     "text": [
      "Epoch 1/80\n",
      "363/363 [==============================] - 1s 4ms/step - loss: 0.3466 - mae: 0.4194 - val_loss: 0.3543 - val_mae: 0.4152\n",
      "Epoch 2/80\n",
      "363/363 [==============================] - 1s 4ms/step - loss: 0.3462 - mae: 0.4186 - val_loss: 0.3888 - val_mae: 0.4212\n",
      "Epoch 3/80\n",
      "363/363 [==============================] - 1s 4ms/step - loss: 0.3458 - mae: 0.4192 - val_loss: 0.3725 - val_mae: 0.4155\n",
      "Epoch 4/80\n",
      "363/363 [==============================] - 1s 3ms/step - loss: 0.3454 - mae: 0.4182 - val_loss: 0.3529 - val_mae: 0.4173\n",
      "Epoch 5/80\n",
      "363/363 [==============================] - 1s 2ms/step - loss: 0.3450 - mae: 0.4182 - val_loss: 0.3445 - val_mae: 0.4145\n",
      "Epoch 6/80\n",
      "363/363 [==============================] - 1s 2ms/step - loss: 0.3445 - mae: 0.4180 - val_loss: 0.3610 - val_mae: 0.4144\n",
      "Epoch 7/80\n",
      "363/363 [==============================] - 1s 2ms/step - loss: 0.3442 - mae: 0.4172 - val_loss: 0.3524 - val_mae: 0.4149\n",
      "Epoch 8/80\n",
      "363/363 [==============================] - 1s 2ms/step - loss: 0.3438 - mae: 0.4173 - val_loss: 0.3374 - val_mae: 0.4124\n",
      "Epoch 9/80\n",
      "363/363 [==============================] - 1s 1ms/step - loss: 0.3432 - mae: 0.4170 - val_loss: 0.3476 - val_mae: 0.4114\n",
      "Epoch 10/80\n",
      "363/363 [==============================] - 1s 2ms/step - loss: 0.3427 - mae: 0.4164 - val_loss: 0.3678 - val_mae: 0.4134\n",
      "Epoch 11/80\n",
      "363/363 [==============================] - 1s 2ms/step - loss: 0.3428 - mae: 0.4161 - val_loss: 0.3331 - val_mae: 0.4110\n",
      "Epoch 12/80\n",
      "363/363 [==============================] - 1s 2ms/step - loss: 0.3421 - mae: 0.4159 - val_loss: 0.3753 - val_mae: 0.4140\n",
      "Epoch 13/80\n",
      "363/363 [==============================] - 1s 2ms/step - loss: 0.3417 - mae: 0.4152 - val_loss: 0.3590 - val_mae: 0.4151\n",
      "Epoch 14/80\n",
      "363/363 [==============================] - 1s 2ms/step - loss: 0.3414 - mae: 0.4153 - val_loss: 0.3354 - val_mae: 0.4112\n",
      "Epoch 15/80\n",
      "363/363 [==============================] - 1s 2ms/step - loss: 0.3410 - mae: 0.4152 - val_loss: 0.3533 - val_mae: 0.4131\n",
      "Epoch 16/80\n",
      "363/363 [==============================] - 1s 2ms/step - loss: 0.3407 - mae: 0.4150 - val_loss: 0.3353 - val_mae: 0.4105\n",
      "Epoch 17/80\n",
      "363/363 [==============================] - 1s 2ms/step - loss: 0.3403 - mae: 0.4146 - val_loss: 0.3596 - val_mae: 0.4127\n",
      "Epoch 18/80\n",
      "363/363 [==============================] - 1s 2ms/step - loss: 0.3402 - mae: 0.4146 - val_loss: 0.3467 - val_mae: 0.4096\n",
      "Epoch 19/80\n",
      "363/363 [==============================] - 1s 2ms/step - loss: 0.3394 - mae: 0.4138 - val_loss: 0.3460 - val_mae: 0.4103\n",
      "Epoch 20/80\n",
      "363/363 [==============================] - 1s 2ms/step - loss: 0.3394 - mae: 0.4137 - val_loss: 0.3771 - val_mae: 0.4140\n",
      "Epoch 21/80\n",
      "363/363 [==============================] - 1s 2ms/step - loss: 0.3390 - mae: 0.4136 - val_loss: 0.3569 - val_mae: 0.4136\n",
      "Epoch 22/80\n",
      "363/363 [==============================] - 1s 2ms/step - loss: 0.3385 - mae: 0.4133 - val_loss: 0.3826 - val_mae: 0.4159\n",
      "Epoch 23/80\n",
      "363/363 [==============================] - 1s 2ms/step - loss: 0.3384 - mae: 0.4138 - val_loss: 0.3276 - val_mae: 0.4048\n",
      "Epoch 24/80\n",
      "363/363 [==============================] - 1s 2ms/step - loss: 0.3379 - mae: 0.4122 - val_loss: 0.3470 - val_mae: 0.4096\n",
      "Epoch 25/80\n",
      "363/363 [==============================] - 1s 3ms/step - loss: 0.3374 - mae: 0.4127 - val_loss: 0.3676 - val_mae: 0.4108\n",
      "Epoch 26/80\n",
      "363/363 [==============================] - 1s 3ms/step - loss: 0.3373 - mae: 0.4123 - val_loss: 0.3629 - val_mae: 0.4104\n",
      "Epoch 27/80\n",
      "363/363 [==============================] - 1s 3ms/step - loss: 0.3372 - mae: 0.4121 - val_loss: 0.3274 - val_mae: 0.4069\n",
      "Epoch 28/80\n",
      "363/363 [==============================] - 1s 3ms/step - loss: 0.3367 - mae: 0.4115 - val_loss: 0.3491 - val_mae: 0.4116\n",
      "Epoch 29/80\n",
      "363/363 [==============================] - 1s 2ms/step - loss: 0.3365 - mae: 0.4117 - val_loss: 0.3443 - val_mae: 0.4103\n",
      "Epoch 30/80\n",
      "363/363 [==============================] - 1s 2ms/step - loss: 0.3361 - mae: 0.4116 - val_loss: 0.3562 - val_mae: 0.4089\n",
      "Epoch 31/80\n",
      "363/363 [==============================] - 1s 2ms/step - loss: 0.3356 - mae: 0.4108 - val_loss: 0.3501 - val_mae: 0.4086\n",
      "Epoch 32/80\n",
      "363/363 [==============================] - 1s 2ms/step - loss: 0.3354 - mae: 0.4108 - val_loss: 0.3569 - val_mae: 0.4112\n",
      "Epoch 33/80\n",
      "363/363 [==============================] - 1s 2ms/step - loss: 0.3354 - mae: 0.4110 - val_loss: 0.3330 - val_mae: 0.4067\n",
      "Epoch 34/80\n",
      "363/363 [==============================] - 1s 2ms/step - loss: 0.3348 - mae: 0.4101 - val_loss: 0.3332 - val_mae: 0.4081\n",
      "Epoch 35/80\n",
      "363/363 [==============================] - 1s 2ms/step - loss: 0.3345 - mae: 0.4101 - val_loss: 0.3626 - val_mae: 0.4115\n",
      "Epoch 36/80\n",
      "363/363 [==============================] - 1s 2ms/step - loss: 0.3343 - mae: 0.4103 - val_loss: 0.3236 - val_mae: 0.4041\n",
      "Epoch 37/80\n",
      "363/363 [==============================] - 1s 3ms/step - loss: 0.3340 - mae: 0.4097 - val_loss: 0.3412 - val_mae: 0.4078\n",
      "Epoch 38/80\n",
      "363/363 [==============================] - 1s 3ms/step - loss: 0.3336 - mae: 0.4096 - val_loss: 0.3290 - val_mae: 0.4056\n",
      "Epoch 39/80\n",
      "363/363 [==============================] - 1s 3ms/step - loss: 0.3334 - mae: 0.4097 - val_loss: 0.3320 - val_mae: 0.4053\n",
      "Epoch 40/80\n",
      "363/363 [==============================] - 1s 3ms/step - loss: 0.3329 - mae: 0.4092 - val_loss: 0.3397 - val_mae: 0.4047\n",
      "Epoch 41/80\n",
      "363/363 [==============================] - 1s 3ms/step - loss: 0.3329 - mae: 0.4088 - val_loss: 0.3505 - val_mae: 0.4073\n",
      "Epoch 42/80\n",
      "363/363 [==============================] - 1s 3ms/step - loss: 0.3327 - mae: 0.4090 - val_loss: 0.3463 - val_mae: 0.4057\n",
      "Epoch 43/80\n",
      "363/363 [==============================] - 1s 3ms/step - loss: 0.3321 - mae: 0.4082 - val_loss: 0.3546 - val_mae: 0.4071\n",
      "Epoch 44/80\n",
      "363/363 [==============================] - 1s 3ms/step - loss: 0.3317 - mae: 0.4079 - val_loss: 0.3644 - val_mae: 0.4096\n",
      "Epoch 45/80\n",
      "363/363 [==============================] - 1s 3ms/step - loss: 0.3317 - mae: 0.4084 - val_loss: 0.3379 - val_mae: 0.4032\n",
      "Epoch 46/80\n",
      "363/363 [==============================] - 1s 4ms/step - loss: 0.3311 - mae: 0.4072 - val_loss: 0.3362 - val_mae: 0.4052\n",
      "Epoch 47/80\n",
      "363/363 [==============================] - 1s 3ms/step - loss: 0.3310 - mae: 0.4076 - val_loss: 0.3321 - val_mae: 0.4033\n",
      "Epoch 48/80\n",
      "363/363 [==============================] - 1s 3ms/step - loss: 0.3307 - mae: 0.4072 - val_loss: 0.3509 - val_mae: 0.4060\n",
      "Epoch 49/80\n",
      "363/363 [==============================] - 1s 2ms/step - loss: 0.3306 - mae: 0.4073 - val_loss: 0.3300 - val_mae: 0.4051\n",
      "Epoch 50/80\n",
      "363/363 [==============================] - 1s 2ms/step - loss: 0.3300 - mae: 0.4071 - val_loss: 0.3206 - val_mae: 0.4001\n",
      "Epoch 51/80\n",
      "363/363 [==============================] - 1s 2ms/step - loss: 0.3298 - mae: 0.4062 - val_loss: 0.3397 - val_mae: 0.4059\n",
      "Epoch 52/80\n",
      "363/363 [==============================] - 1s 2ms/step - loss: 0.3296 - mae: 0.4065 - val_loss: 0.3238 - val_mae: 0.4005\n",
      "Epoch 53/80\n",
      "363/363 [==============================] - 1s 2ms/step - loss: 0.3294 - mae: 0.4061 - val_loss: 0.3549 - val_mae: 0.4045\n",
      "Epoch 54/80\n",
      "363/363 [==============================] - 1s 3ms/step - loss: 0.3289 - mae: 0.4057 - val_loss: 0.3223 - val_mae: 0.4026\n",
      "Epoch 55/80\n",
      "363/363 [==============================] - 1s 3ms/step - loss: 0.3287 - mae: 0.4060 - val_loss: 0.3310 - val_mae: 0.4016\n",
      "Epoch 56/80\n",
      "363/363 [==============================] - 1s 3ms/step - loss: 0.3283 - mae: 0.4053 - val_loss: 0.3298 - val_mae: 0.4025\n",
      "Epoch 57/80\n",
      "363/363 [==============================] - 1s 3ms/step - loss: 0.3281 - mae: 0.4053 - val_loss: 0.3237 - val_mae: 0.4004\n",
      "Epoch 58/80\n",
      "363/363 [==============================] - 1s 3ms/step - loss: 0.3277 - mae: 0.4050 - val_loss: 0.3578 - val_mae: 0.4037\n",
      "Epoch 59/80\n",
      "363/363 [==============================] - 1s 3ms/step - loss: 0.3276 - mae: 0.4050 - val_loss: 0.3374 - val_mae: 0.4023\n",
      "Epoch 60/80\n",
      "363/363 [==============================] - 1s 3ms/step - loss: 0.3273 - mae: 0.4046 - val_loss: 0.3291 - val_mae: 0.4026\n",
      "Epoch 61/80\n",
      "363/363 [==============================] - 1s 4ms/step - loss: 0.3267 - mae: 0.4043 - val_loss: 0.3422 - val_mae: 0.4068\n",
      "Epoch 62/80\n",
      "363/363 [==============================] - 1s 3ms/step - loss: 0.3268 - mae: 0.4047 - val_loss: 0.3366 - val_mae: 0.4011\n",
      "Epoch 63/80\n",
      "363/363 [==============================] - 1s 3ms/step - loss: 0.3261 - mae: 0.4033 - val_loss: 0.3312 - val_mae: 0.4048\n",
      "Epoch 64/80\n",
      "363/363 [==============================] - 1s 3ms/step - loss: 0.3264 - mae: 0.4040 - val_loss: 0.3196 - val_mae: 0.4004\n",
      "Epoch 65/80\n",
      "363/363 [==============================] - 1s 3ms/step - loss: 0.3257 - mae: 0.4038 - val_loss: 0.3254 - val_mae: 0.4006\n",
      "Epoch 66/80\n",
      "363/363 [==============================] - 1s 2ms/step - loss: 0.3254 - mae: 0.4033 - val_loss: 0.3298 - val_mae: 0.4005\n",
      "Epoch 67/80\n",
      "363/363 [==============================] - 1s 2ms/step - loss: 0.3250 - mae: 0.4028 - val_loss: 0.3349 - val_mae: 0.4020\n",
      "Epoch 68/80\n",
      "363/363 [==============================] - 1s 2ms/step - loss: 0.3247 - mae: 0.4026 - val_loss: 0.3349 - val_mae: 0.3999\n",
      "Epoch 69/80\n",
      "363/363 [==============================] - 1s 2ms/step - loss: 0.3245 - mae: 0.4022 - val_loss: 0.3265 - val_mae: 0.4019\n",
      "Epoch 70/80\n",
      "363/363 [==============================] - 1s 2ms/step - loss: 0.3242 - mae: 0.4024 - val_loss: 0.3324 - val_mae: 0.3981\n",
      "Epoch 71/80\n",
      "363/363 [==============================] - 1s 3ms/step - loss: 0.3238 - mae: 0.4021 - val_loss: 0.3402 - val_mae: 0.4006\n",
      "Epoch 72/80\n",
      "363/363 [==============================] - 1s 3ms/step - loss: 0.3235 - mae: 0.4015 - val_loss: 0.3311 - val_mae: 0.3998\n",
      "Epoch 73/80\n",
      "363/363 [==============================] - 1s 3ms/step - loss: 0.3231 - mae: 0.4015 - val_loss: 0.3173 - val_mae: 0.3961\n",
      "Epoch 74/80\n",
      "363/363 [==============================] - 1s 3ms/step - loss: 0.3231 - mae: 0.4016 - val_loss: 0.3405 - val_mae: 0.4008\n",
      "Epoch 75/80\n",
      "363/363 [==============================] - 1s 3ms/step - loss: 0.3226 - mae: 0.4008 - val_loss: 0.3480 - val_mae: 0.4024\n",
      "Epoch 76/80\n",
      "363/363 [==============================] - 1s 3ms/step - loss: 0.3226 - mae: 0.4010 - val_loss: 0.3276 - val_mae: 0.3972\n",
      "Epoch 77/80\n",
      "363/363 [==============================] - 1s 3ms/step - loss: 0.3221 - mae: 0.4005 - val_loss: 0.3498 - val_mae: 0.4028\n",
      "Epoch 78/80\n",
      "363/363 [==============================] - 1s 3ms/step - loss: 0.3220 - mae: 0.4008 - val_loss: 0.3457 - val_mae: 0.3998\n",
      "Epoch 79/80\n",
      "363/363 [==============================] - 1s 3ms/step - loss: 0.3217 - mae: 0.4003 - val_loss: 0.3398 - val_mae: 0.3996\n",
      "Epoch 80/80\n",
      "363/363 [==============================] - 1s 3ms/step - loss: 0.3215 - mae: 0.4002 - val_loss: 0.3415 - val_mae: 0.3977\n"
     ]
    }
   ],
   "source": [
    "model_history = model.fit(X_train, y_train, epochs=80, validation_data=(X_valid, y_valid))"
   ]
  },
  {
   "cell_type": "code",
   "execution_count": 51,
   "metadata": {},
   "outputs": [
    {
     "name": "stdout",
     "output_type": "stream",
     "text": [
      "162/162 [==============================] - 0s 1ms/step - loss: 0.3317 - mae: 0.4038\n"
     ]
    }
   ],
   "source": [
    "mae_test = model.evaluate(X_test, y_test)\n"
   ]
  },
  {
   "cell_type": "code",
   "execution_count": 52,
   "metadata": {},
   "outputs": [
    {
     "data": {
      "text/plain": [
       "{'loss': [0.3466320335865021,\n",
       "  0.34615567326545715,\n",
       "  0.34583336114883423,\n",
       "  0.3454045057296753,\n",
       "  0.3450011610984802,\n",
       "  0.3445073962211609,\n",
       "  0.3441844582557678,\n",
       "  0.34375351667404175,\n",
       "  0.343239426612854,\n",
       "  0.34268489480018616,\n",
       "  0.34276726841926575,\n",
       "  0.34209373593330383,\n",
       "  0.34165677428245544,\n",
       "  0.3414151072502136,\n",
       "  0.34097298979759216,\n",
       "  0.3407309353351593,\n",
       "  0.34028252959251404,\n",
       "  0.3402138352394104,\n",
       "  0.33941271901130676,\n",
       "  0.339356929063797,\n",
       "  0.33897581696510315,\n",
       "  0.33849433064460754,\n",
       "  0.33840230107307434,\n",
       "  0.3379250168800354,\n",
       "  0.3374386727809906,\n",
       "  0.3373231291770935,\n",
       "  0.3371508717536926,\n",
       "  0.3367393910884857,\n",
       "  0.3365403115749359,\n",
       "  0.33608976006507874,\n",
       "  0.33558523654937744,\n",
       "  0.3353807032108307,\n",
       "  0.33537521958351135,\n",
       "  0.33476510643959045,\n",
       "  0.3345283567905426,\n",
       "  0.33431681990623474,\n",
       "  0.3340170085430145,\n",
       "  0.3335878252983093,\n",
       "  0.3334018290042877,\n",
       "  0.3329392373561859,\n",
       "  0.33291390538215637,\n",
       "  0.3326914310455322,\n",
       "  0.33205080032348633,\n",
       "  0.3316929340362549,\n",
       "  0.3317106366157532,\n",
       "  0.3311450481414795,\n",
       "  0.3310296833515167,\n",
       "  0.33069321513175964,\n",
       "  0.3305935859680176,\n",
       "  0.3299659490585327,\n",
       "  0.3298164904117584,\n",
       "  0.3295777440071106,\n",
       "  0.32937395572662354,\n",
       "  0.3289410471916199,\n",
       "  0.32871511578559875,\n",
       "  0.3282741904258728,\n",
       "  0.3281083106994629,\n",
       "  0.32771146297454834,\n",
       "  0.3276488184928894,\n",
       "  0.3273330330848694,\n",
       "  0.3267346918582916,\n",
       "  0.32678332924842834,\n",
       "  0.3260611593723297,\n",
       "  0.3263598382472992,\n",
       "  0.3257148563861847,\n",
       "  0.32539090514183044,\n",
       "  0.32502785325050354,\n",
       "  0.3247435986995697,\n",
       "  0.32454296946525574,\n",
       "  0.32419803738594055,\n",
       "  0.3238423466682434,\n",
       "  0.32348525524139404,\n",
       "  0.3231460154056549,\n",
       "  0.32310542464256287,\n",
       "  0.32261061668395996,\n",
       "  0.3225818872451782,\n",
       "  0.3220690190792084,\n",
       "  0.321965754032135,\n",
       "  0.32170748710632324,\n",
       "  0.32146820425987244],\n",
       " 'mae': [0.41943225264549255,\n",
       "  0.41859006881713867,\n",
       "  0.4191550016403198,\n",
       "  0.4182179868221283,\n",
       "  0.4181506931781769,\n",
       "  0.41796907782554626,\n",
       "  0.4171777069568634,\n",
       "  0.41727209091186523,\n",
       "  0.41701170802116394,\n",
       "  0.4164029359817505,\n",
       "  0.4161342680454254,\n",
       "  0.4159485995769501,\n",
       "  0.4152476191520691,\n",
       "  0.41528695821762085,\n",
       "  0.4151584208011627,\n",
       "  0.4150480628013611,\n",
       "  0.4146069586277008,\n",
       "  0.4146369695663452,\n",
       "  0.4138478934764862,\n",
       "  0.4136626720428467,\n",
       "  0.41357162594795227,\n",
       "  0.41329652070999146,\n",
       "  0.41375303268432617,\n",
       "  0.4121718406677246,\n",
       "  0.4127037227153778,\n",
       "  0.412324458360672,\n",
       "  0.4120938181877136,\n",
       "  0.41145068407058716,\n",
       "  0.4116731584072113,\n",
       "  0.41157326102256775,\n",
       "  0.4107505977153778,\n",
       "  0.41075918078422546,\n",
       "  0.4110460877418518,\n",
       "  0.4100784957408905,\n",
       "  0.41012781858444214,\n",
       "  0.4102635681629181,\n",
       "  0.4097111225128174,\n",
       "  0.4096332788467407,\n",
       "  0.40966400504112244,\n",
       "  0.40922826528549194,\n",
       "  0.4088307023048401,\n",
       "  0.4090203046798706,\n",
       "  0.4081948399543762,\n",
       "  0.40792104601860046,\n",
       "  0.4083768129348755,\n",
       "  0.4072159230709076,\n",
       "  0.40762126445770264,\n",
       "  0.40720438957214355,\n",
       "  0.407323956489563,\n",
       "  0.40710771083831787,\n",
       "  0.40619802474975586,\n",
       "  0.4065196216106415,\n",
       "  0.40606924891471863,\n",
       "  0.4057234525680542,\n",
       "  0.4060274362564087,\n",
       "  0.40527376532554626,\n",
       "  0.4053434133529663,\n",
       "  0.4049810469150543,\n",
       "  0.40504762530326843,\n",
       "  0.40456604957580566,\n",
       "  0.40425676107406616,\n",
       "  0.4046579897403717,\n",
       "  0.40334945917129517,\n",
       "  0.4040391445159912,\n",
       "  0.40378719568252563,\n",
       "  0.4032537341117859,\n",
       "  0.4027957320213318,\n",
       "  0.40260085463523865,\n",
       "  0.4021950364112854,\n",
       "  0.40238791704177856,\n",
       "  0.40208131074905396,\n",
       "  0.40153124928474426,\n",
       "  0.40148428082466125,\n",
       "  0.40156885981559753,\n",
       "  0.4008156657218933,\n",
       "  0.4009815752506256,\n",
       "  0.4004855453968048,\n",
       "  0.40075933933258057,\n",
       "  0.40026143193244934,\n",
       "  0.4002474248409271],\n",
       " 'val_loss': [0.3542604148387909,\n",
       "  0.3888322710990906,\n",
       "  0.3724670708179474,\n",
       "  0.35292139649391174,\n",
       "  0.34452593326568604,\n",
       "  0.3609887659549713,\n",
       "  0.3523511290550232,\n",
       "  0.33738794922828674,\n",
       "  0.3476231098175049,\n",
       "  0.3678376376628876,\n",
       "  0.33308178186416626,\n",
       "  0.3752666711807251,\n",
       "  0.35897573828697205,\n",
       "  0.33541208505630493,\n",
       "  0.353302925825119,\n",
       "  0.3352736234664917,\n",
       "  0.3595951199531555,\n",
       "  0.34670746326446533,\n",
       "  0.3459886312484741,\n",
       "  0.37712472677230835,\n",
       "  0.35687217116355896,\n",
       "  0.3826155960559845,\n",
       "  0.3276498317718506,\n",
       "  0.34699225425720215,\n",
       "  0.3676111698150635,\n",
       "  0.3628542423248291,\n",
       "  0.3274162709712982,\n",
       "  0.3490716516971588,\n",
       "  0.34428107738494873,\n",
       "  0.35618215799331665,\n",
       "  0.3500760495662689,\n",
       "  0.356906920671463,\n",
       "  0.33301785588264465,\n",
       "  0.33320555090904236,\n",
       "  0.3625515401363373,\n",
       "  0.32362642884254456,\n",
       "  0.34122055768966675,\n",
       "  0.3289717435836792,\n",
       "  0.33203980326652527,\n",
       "  0.3396998345851898,\n",
       "  0.35052555799484253,\n",
       "  0.346293568611145,\n",
       "  0.3546431064605713,\n",
       "  0.36437153816223145,\n",
       "  0.3378901183605194,\n",
       "  0.33619317412376404,\n",
       "  0.3321041762828827,\n",
       "  0.3509463667869568,\n",
       "  0.3300464451313019,\n",
       "  0.3205775022506714,\n",
       "  0.3397212028503418,\n",
       "  0.32384443283081055,\n",
       "  0.35492920875549316,\n",
       "  0.32233095169067383,\n",
       "  0.3309946060180664,\n",
       "  0.32981982827186584,\n",
       "  0.32374128699302673,\n",
       "  0.357796847820282,\n",
       "  0.3373970091342926,\n",
       "  0.3291305601596832,\n",
       "  0.3422171175479889,\n",
       "  0.3365650177001953,\n",
       "  0.3312334418296814,\n",
       "  0.3196054697036743,\n",
       "  0.3254117965698242,\n",
       "  0.32978716492652893,\n",
       "  0.3349170982837677,\n",
       "  0.33489781618118286,\n",
       "  0.32653483748435974,\n",
       "  0.3324151933193207,\n",
       "  0.34021249413490295,\n",
       "  0.33112528920173645,\n",
       "  0.31725019216537476,\n",
       "  0.3404506742954254,\n",
       "  0.3480173945426941,\n",
       "  0.3275549113750458,\n",
       "  0.34983086585998535,\n",
       "  0.3456725776195526,\n",
       "  0.33975446224212646,\n",
       "  0.3414945900440216],\n",
       " 'val_mae': [0.41518208384513855,\n",
       "  0.4211544096469879,\n",
       "  0.41554176807403564,\n",
       "  0.41730040311813354,\n",
       "  0.4145435392856598,\n",
       "  0.4144233465194702,\n",
       "  0.4148886799812317,\n",
       "  0.41240042448043823,\n",
       "  0.41138023138046265,\n",
       "  0.4134041666984558,\n",
       "  0.4110487401485443,\n",
       "  0.4140026271343231,\n",
       "  0.415052205324173,\n",
       "  0.41115304827690125,\n",
       "  0.4131409823894501,\n",
       "  0.41049298644065857,\n",
       "  0.41267791390419006,\n",
       "  0.4095611572265625,\n",
       "  0.41028910875320435,\n",
       "  0.413984477519989,\n",
       "  0.41363006830215454,\n",
       "  0.4159180223941803,\n",
       "  0.40484100580215454,\n",
       "  0.40955790877342224,\n",
       "  0.41080111265182495,\n",
       "  0.41043686866760254,\n",
       "  0.4068521559238434,\n",
       "  0.4115743935108185,\n",
       "  0.41029778122901917,\n",
       "  0.40894782543182373,\n",
       "  0.40856677293777466,\n",
       "  0.4111843705177307,\n",
       "  0.406716525554657,\n",
       "  0.40805861353874207,\n",
       "  0.4115065932273865,\n",
       "  0.40412333607673645,\n",
       "  0.4077853858470917,\n",
       "  0.4055909216403961,\n",
       "  0.40527743101119995,\n",
       "  0.4046841263771057,\n",
       "  0.407252699136734,\n",
       "  0.4057469069957733,\n",
       "  0.4070826470851898,\n",
       "  0.4096449315547943,\n",
       "  0.40322718024253845,\n",
       "  0.4052427113056183,\n",
       "  0.403257817029953,\n",
       "  0.4060267210006714,\n",
       "  0.40511590242385864,\n",
       "  0.4001390039920807,\n",
       "  0.4058600664138794,\n",
       "  0.4004746675491333,\n",
       "  0.40445977449417114,\n",
       "  0.40256136655807495,\n",
       "  0.40160658955574036,\n",
       "  0.40248075127601624,\n",
       "  0.4003596007823944,\n",
       "  0.4037397503852844,\n",
       "  0.40228185057640076,\n",
       "  0.40261128544807434,\n",
       "  0.40678682923316956,\n",
       "  0.40113401412963867,\n",
       "  0.4048439860343933,\n",
       "  0.40040138363838196,\n",
       "  0.4006107747554779,\n",
       "  0.40050381422042847,\n",
       "  0.4019511938095093,\n",
       "  0.3998883068561554,\n",
       "  0.401915967464447,\n",
       "  0.3981498181819916,\n",
       "  0.4005727767944336,\n",
       "  0.3998427093029022,\n",
       "  0.3960774540901184,\n",
       "  0.4008026421070099,\n",
       "  0.4024108648300171,\n",
       "  0.3971653878688812,\n",
       "  0.40277349948883057,\n",
       "  0.3998211920261383,\n",
       "  0.3995938003063202,\n",
       "  0.3976690173149109]}"
      ]
     },
     "execution_count": 52,
     "metadata": {},
     "output_type": "execute_result"
    }
   ],
   "source": [
    "model_history.history"
   ]
  },
  {
   "cell_type": "code",
   "execution_count": 53,
   "metadata": {},
   "outputs": [
    {
     "data": {
      "image/png": "[encoded data removed]",
      "text/plain": [
       "<Figure size 800x500 with 1 Axes>"
      ]
     },
     "metadata": {},
     "output_type": "display_data"
    }
   ],
   "source": [
    "pd.DataFrame(model_history.history).plot(figsize=(8, 5))\n",
    "plt.grid(True)\n",
    "plt.gca().set_ylim(0, 1)\n",
    "\n",
    "plt.show()"
   ]
  },
  {
   "cell_type": "markdown",
   "metadata": {},
   "source": [
    "# Saving and Restoring"
   ]
  },
  {
   "cell_type": "markdown",
   "metadata": {},
   "source": [
    "### The \".h5\" file extension is commonly associated with Hierarchical Data Format version 5 (HDF5). HDF5 is a file format that is used to store and organize large amounts of numerical data, particularly in the scientific and data analysis domains."
   ]
  },
  {
   "cell_type": "code",
   "execution_count": 54,
   "metadata": {},
   "outputs": [],
   "source": [
    "model.save(\"my_Func_model.h5\")"
   ]
  },
  {
   "cell_type": "code",
   "execution_count": 55,
   "metadata": {},
   "outputs": [
    {
     "data": {
      "text/plain": [
       "'C:\\\\Users\\\\Pc'"
      ]
     },
     "execution_count": 55,
     "metadata": {},
     "output_type": "execute_result"
    }
   ],
   "source": [
    "# To check present working directory\n",
    "%pwd"
   ]
  },
  {
   "cell_type": "code",
   "execution_count": null,
   "metadata": {},
   "outputs": [],
   "source": [
    "# Now lets call this saved model to make predictions"
   ]
  },
  {
   "cell_type": "code",
   "execution_count": 61,
   "metadata": {},
   "outputs": [],
   "source": [
    "del model"
   ]
  },
  {
   "cell_type": "code",
   "execution_count": 62,
   "metadata": {},
   "outputs": [],
   "source": [
    "keras.backend.clear_session()"
   ]
  },
  {
   "cell_type": "code",
   "execution_count": 58,
   "metadata": {},
   "outputs": [],
   "source": [
    "model = keras.models.load_model(\"my_Func_model.h5\")"
   ]
  },
  {
   "cell_type": "code",
   "execution_count": 59,
   "metadata": {},
   "outputs": [
    {
     "name": "stdout",
     "output_type": "stream",
     "text": [
      "Model: \"model\"\n",
      "__________________________________________________________________________________________________\n",
      " Layer (type)                   Output Shape         Param #     Connected to                     \n",
      "==================================================================================================\n",
      " input_1 (InputLayer)           [(None, 8)]          0           []                               \n",
      "                                                                                                  \n",
      " dense (Dense)                  (None, 30)           270         ['input_1[0][0]']                \n",
      "                                                                                                  \n",
      " dense_1 (Dense)                (None, 30)           930         ['dense[0][0]']                  \n",
      "                                                                                                  \n",
      " concatenate (Concatenate)      (None, 38)           0           ['input_1[0][0]',                \n",
      "                                                                  'dense_1[0][0]']                \n",
      "                                                                                                  \n",
      " dense_2 (Dense)                (None, 1)            39          ['concatenate[0][0]']            \n",
      "                                                                                                  \n",
      "==================================================================================================\n",
      "Total params: 1,239\n",
      "Trainable params: 1,239\n",
      "Non-trainable params: 0\n",
      "__________________________________________________________________________________________________\n"
     ]
    }
   ],
   "source": [
    "model.summary()"
   ]
  },
  {
   "cell_type": "code",
   "execution_count": 60,
   "metadata": {},
   "outputs": [
    {
     "name": "stdout",
     "output_type": "stream",
     "text": [
      "1/1 [==============================] - 0s 63ms/step\n",
      "[[0.77006525]\n",
      " [1.4827392 ]\n",
      " [4.4792304 ]]\n"
     ]
    }
   ],
   "source": [
    "y_pred = model.predict(X_new)\n",
    "print (y_pred)"
   ]
  },
  {
   "cell_type": "markdown",
   "metadata": {},
   "source": [
    "# Using Callbacks during Training"
   ]
  },
  {
   "cell_type": "markdown",
   "metadata": {},
   "source": [
    "### Callbacks are check points which allows you to save the model after each epoch, dont have to wait till the entire training is done."
   ]
  },
  {
   "cell_type": "code",
   "execution_count": null,
   "metadata": {},
   "outputs": [],
   "source": [
    "### Del the model one more time ( Run above codes)"
   ]
  },
  {
   "cell_type": "code",
   "execution_count": 54,
   "metadata": {},
   "outputs": [],
   "source": [
    "keras.backend.clear_session()\n",
    "np.random.seed(42)\n",
    "tf.random.set_seed(42)"
   ]
  },
  {
   "cell_type": "code",
   "execution_count": 55,
   "metadata": {},
   "outputs": [],
   "source": [
    "model = keras.models.Sequential([\n",
    "    keras.layers.Dense(30, activation=\"relu\", input_shape=[8]),\n",
    "    keras.layers.Dense(30, activation=\"relu\"),\n",
    "    keras.layers.Dense(1)\n",
    "])    "
   ]
  },
  {
   "cell_type": "code",
   "execution_count": 56,
   "metadata": {},
   "outputs": [],
   "source": [
    "model.compile(loss=\"mse\", optimizer=keras.optimizers.SGD(learning_rate=1e-3))"
   ]
  },
  {
   "cell_type": "code",
   "execution_count": 67,
   "metadata": {},
   "outputs": [],
   "source": [
    "# By using model checkpoint we save the result in a file for each epoch, we dont have to manually create it.\n",
    "# 02d refers to 2 digit epoch, if it is more than 99, it should be 003d\n",
    "checkpoint_cb = keras.callbacks.ModelCheckpoint(\"Model-{epoch:02d}.h5\")"
   ]
  },
  {
   "cell_type": "code",
   "execution_count": 68,
   "metadata": {
    "scrolled": true
   },
   "outputs": [
    {
     "name": "stdout",
     "output_type": "stream",
     "text": [
      "Epoch 1/10\n",
      "363/363 [==============================] - 1s 2ms/step - loss: 1.9114 - val_loss: 1.3765\n",
      "Epoch 2/10\n",
      "363/363 [==============================] - 1s 2ms/step - loss: 0.7816 - val_loss: 0.8175\n",
      "Epoch 3/10\n",
      "363/363 [==============================] - 1s 2ms/step - loss: 0.6903 - val_loss: 0.7328\n",
      "Epoch 4/10\n",
      "363/363 [==============================] - 1s 2ms/step - loss: 0.6378 - val_loss: 0.5820\n",
      "Epoch 5/10\n",
      "363/363 [==============================] - 1s 2ms/step - loss: 0.5978 - val_loss: 0.5577\n",
      "Epoch 6/10\n",
      "363/363 [==============================] - 1s 3ms/step - loss: 0.5630 - val_loss: 0.5694\n",
      "Epoch 7/10\n",
      "363/363 [==============================] - 1s 4ms/step - loss: 0.5381 - val_loss: 0.5455\n",
      "Epoch 8/10\n",
      "363/363 [==============================] - 1s 4ms/step - loss: 0.5155 - val_loss: 0.4944\n",
      "Epoch 9/10\n",
      "363/363 [==============================] - 1s 3ms/step - loss: 0.4934 - val_loss: 0.4704\n",
      "Epoch 10/10\n",
      "363/363 [==============================] - 1s 2ms/step - loss: 0.4757 - val_loss: 0.4893\n"
     ]
    }
   ],
   "source": [
    "history = model.fit(X_train, y_train, epochs=10,\n",
    "                    validation_data=(X_valid, y_valid),\n",
    "                    callbacks=[checkpoint_cb])"
   ]
  },
  {
   "cell_type": "code",
   "execution_count": null,
   "metadata": {},
   "outputs": [],
   "source": [
    "# All 10 models are created in the root directory"
   ]
  },
  {
   "cell_type": "code",
   "execution_count": 69,
   "metadata": {},
   "outputs": [],
   "source": [
    "del model\n",
    "keras.backend.clear_session()"
   ]
  },
  {
   "cell_type": "code",
   "execution_count": 70,
   "metadata": {},
   "outputs": [],
   "source": [
    "model = keras.models.load_model(\"Model-10.h5\")"
   ]
  },
  {
   "cell_type": "code",
   "execution_count": 71,
   "metadata": {
    "scrolled": false
   },
   "outputs": [
    {
     "name": "stdout",
     "output_type": "stream",
     "text": [
      "1/1 [==============================] - 0s 98ms/step - loss: 0.4594\n"
     ]
    }
   ],
   "source": [
    "mse_test = model.evaluate(X_test, y_test,batch_size=5160)"
   ]
  },
  {
   "cell_type": "code",
   "execution_count": 72,
   "metadata": {},
   "outputs": [
    {
     "name": "stdout",
     "output_type": "stream",
     "text": [
      "0.4594361186027527\n"
     ]
    }
   ],
   "source": [
    "print (mse_test)"
   ]
  },
  {
   "cell_type": "code",
   "execution_count": 74,
   "metadata": {},
   "outputs": [
    {
     "name": "stdout",
     "output_type": "stream",
     "text": [
      "162/162 [==============================] - 0s 2ms/step\n"
     ]
    }
   ],
   "source": [
    "y_pred = model.predict(X_test)"
   ]
  },
  {
   "cell_type": "code",
   "execution_count": 75,
   "metadata": {},
   "outputs": [],
   "source": [
    "y_diff=y_pred-y_test"
   ]
  },
  {
   "cell_type": "code",
   "execution_count": 76,
   "metadata": {},
   "outputs": [
    {
     "data": {
      "text/plain": [
       "(5160, 1)"
      ]
     },
     "execution_count": 76,
     "metadata": {},
     "output_type": "execute_result"
    }
   ],
   "source": [
    "y_pred.shape"
   ]
  },
  {
   "cell_type": "code",
   "execution_count": 78,
   "metadata": {},
   "outputs": [
    {
     "data": {
      "text/plain": [
       "array([[ 0.43767452,  0.45667452, -4.08533548, ..., -0.26232548,\n",
       "        -1.71632548, -3.90032548],\n",
       "       [ 0.94636965,  0.96536965, -3.57664035, ...,  0.24636965,\n",
       "        -1.20763035, -3.39163035],\n",
       "       [ 2.64103246,  2.66003246, -1.88197754, ...,  1.94103246,\n",
       "         0.48703246, -1.69696754],\n",
       "       ...,\n",
       "       [ 0.89700806,  0.91600806, -3.62600194, ...,  0.19700806,\n",
       "        -1.25699194, -3.44099194],\n",
       "       [ 2.06185651,  2.08085651, -2.46115349, ...,  1.36185651,\n",
       "        -0.09214349, -2.27614349],\n",
       "       [ 3.23987031,  3.25887031, -1.28313969, ...,  2.53987031,\n",
       "         1.08587031, -1.09812969]])"
      ]
     },
     "execution_count": 78,
     "metadata": {},
     "output_type": "execute_result"
    }
   ],
   "source": [
    "y_diff"
   ]
  },
  {
   "cell_type": "markdown",
   "metadata": {},
   "source": [
    "### Best Model Only"
   ]
  },
  {
   "cell_type": "code",
   "execution_count": 88,
   "metadata": {},
   "outputs": [],
   "source": [
    "del model\n",
    "keras.backend.clear_session()"
   ]
  },
  {
   "cell_type": "code",
   "execution_count": 89,
   "metadata": {},
   "outputs": [],
   "source": [
    "model = keras.models.Sequential([\n",
    "    keras.layers.Dense(30, activation=\"relu\", input_shape=[8]),\n",
    "    keras.layers.Dense(30, activation=\"relu\"),\n",
    "    keras.layers.Dense(1)\n",
    "])    "
   ]
  },
  {
   "cell_type": "code",
   "execution_count": 90,
   "metadata": {},
   "outputs": [],
   "source": [
    "model.compile(loss=\"mse\", optimizer=keras.optimizers.SGD(learning_rate=1e-3))"
   ]
  },
  {
   "cell_type": "code",
   "execution_count": 91,
   "metadata": {},
   "outputs": [],
   "source": [
    "# save_best_only will save only that file which gives the least loss function\n",
    "checkpoint_cb = keras.callbacks.ModelCheckpoint(\"Best_Model.h5\", save_best_only=True)"
   ]
  },
  {
   "cell_type": "code",
   "execution_count": 92,
   "metadata": {},
   "outputs": [
    {
     "name": "stdout",
     "output_type": "stream",
     "text": [
      "Epoch 1/10\n",
      "363/363 [==============================] - 1s 2ms/step - loss: 1.9761 - val_loss: 1.2951\n",
      "Epoch 2/10\n",
      "363/363 [==============================] - 1s 1ms/step - loss: 0.7891 - val_loss: 0.6742\n",
      "Epoch 3/10\n",
      "363/363 [==============================] - 1s 2ms/step - loss: 0.6691 - val_loss: 0.6425\n",
      "Epoch 4/10\n",
      "363/363 [==============================] - 1s 2ms/step - loss: 0.6142 - val_loss: 0.5846\n",
      "Epoch 5/10\n",
      "363/363 [==============================] - 1s 2ms/step - loss: 0.5743 - val_loss: 0.5338\n",
      "Epoch 6/10\n",
      "363/363 [==============================] - 1s 2ms/step - loss: 0.5387 - val_loss: 0.5050\n",
      "Epoch 7/10\n",
      "363/363 [==============================] - 1s 2ms/step - loss: 0.5116 - val_loss: 0.4821\n",
      "Epoch 8/10\n",
      "363/363 [==============================] - 1s 2ms/step - loss: 0.4889 - val_loss: 0.4489\n",
      "Epoch 9/10\n",
      "363/363 [==============================] - 1s 2ms/step - loss: 0.4699 - val_loss: 0.4322\n",
      "Epoch 10/10\n",
      "363/363 [==============================] - 1s 2ms/step - loss: 0.4553 - val_loss: 0.4200\n"
     ]
    }
   ],
   "source": [
    "history = model.fit(X_train, y_train, epochs=10,\n",
    "                    validation_data=(X_valid, y_valid),\n",
    "                    callbacks=[checkpoint_cb])"
   ]
  },
  {
   "cell_type": "code",
   "execution_count": 93,
   "metadata": {},
   "outputs": [
    {
     "name": "stdout",
     "output_type": "stream",
     "text": [
      "162/162 [==============================] - 1s 2ms/step - loss: 0.4476\n"
     ]
    }
   ],
   "source": [
    "model = keras.models.load_model(\"Best_Model.h5\") # rollback to best model\n",
    "mse_test = model.evaluate(X_test, y_test)"
   ]
  },
  {
   "cell_type": "markdown",
   "metadata": {},
   "source": [
    "### Best Model Only"
   ]
  },
  {
   "cell_type": "code",
   "execution_count": null,
   "metadata": {},
   "outputs": [],
   "source": [
    "# Using early stopping method. If the score does not improve after certain epochs , we tell the model to stop."
   ]
  },
  {
   "cell_type": "code",
   "execution_count": 57,
   "metadata": {},
   "outputs": [],
   "source": [
    "del model\n",
    "keras.backend.clear_session()"
   ]
  },
  {
   "cell_type": "code",
   "execution_count": 58,
   "metadata": {},
   "outputs": [],
   "source": [
    "model = keras.models.Sequential([\n",
    "    keras.layers.Dense(30, activation=\"relu\", input_shape=[8]),\n",
    "    keras.layers.Dense(30, activation=\"relu\"),\n",
    "    keras.layers.Dense(1)\n",
    "])    "
   ]
  },
  {
   "cell_type": "code",
   "execution_count": 59,
   "metadata": {},
   "outputs": [],
   "source": [
    "model.compile(loss=\"mse\", optimizer=keras.optimizers.SGD(learning_rate=1e-3),metrics=['mae'])"
   ]
  },
  {
   "cell_type": "code",
   "execution_count": 97,
   "metadata": {},
   "outputs": [],
   "source": [
    "checkpoint_cb = keras.callbacks.ModelCheckpoint(\"early_stop_model.h5\", save_best_only=True)"
   ]
  },
  {
   "cell_type": "code",
   "execution_count": 98,
   "metadata": {},
   "outputs": [],
   "source": [
    "early_stopping_cb = keras.callbacks.EarlyStopping(patience=10,\n",
    "                                                  restore_best_weights=True)\n",
    "\n",
    "#     patience: Number of epochs with no improvement after which training will be stopped."
   ]
  },
  {
   "cell_type": "code",
   "execution_count": 99,
   "metadata": {},
   "outputs": [
    {
     "name": "stdout",
     "output_type": "stream",
     "text": [
      "Epoch 1/200\n",
      "363/363 [==============================] - 2s 4ms/step - loss: 1.8918 - val_loss: 1.1631\n",
      "Epoch 2/200\n",
      "363/363 [==============================] - 2s 6ms/step - loss: 0.7076 - val_loss: 0.6398\n",
      "Epoch 3/200\n",
      "363/363 [==============================] - 1s 1ms/step - loss: 0.6201 - val_loss: 0.5751\n",
      "Epoch 4/200\n",
      "363/363 [==============================] - 1s 1ms/step - loss: 0.5674 - val_loss: 0.5292\n",
      "Epoch 5/200\n",
      "363/363 [==============================] - 1s 1ms/step - loss: 0.5305 - val_loss: 0.4927\n",
      "Epoch 6/200\n",
      "363/363 [==============================] - 1s 1ms/step - loss: 0.5013 - val_loss: 0.4655\n",
      "Epoch 7/200\n",
      "363/363 [==============================] - 1s 1ms/step - loss: 0.4798 - val_loss: 0.4450\n",
      "Epoch 8/200\n",
      "363/363 [==============================] - 1s 1ms/step - loss: 0.4626 - val_loss: 0.4299\n",
      "Epoch 9/200\n",
      "363/363 [==============================] - 1s 1ms/step - loss: 0.4492 - val_loss: 0.4208\n",
      "Epoch 10/200\n",
      "363/363 [==============================] - 1s 1ms/step - loss: 0.4385 - val_loss: 0.4159\n",
      "Epoch 11/200\n",
      "363/363 [==============================] - 1s 1ms/step - loss: 0.4303 - val_loss: 0.4181\n",
      "Epoch 12/200\n",
      "363/363 [==============================] - 1s 2ms/step - loss: 0.4233 - val_loss: 0.4242\n",
      "Epoch 13/200\n",
      "363/363 [==============================] - 1s 2ms/step - loss: 0.4177 - val_loss: 0.4296\n",
      "Epoch 14/200\n",
      "363/363 [==============================] - 1s 2ms/step - loss: 0.4129 - val_loss: 0.4177\n",
      "Epoch 15/200\n",
      "363/363 [==============================] - 1s 2ms/step - loss: 0.4085 - val_loss: 0.4151\n",
      "Epoch 16/200\n",
      "363/363 [==============================] - 1s 2ms/step - loss: 0.4047 - val_loss: 0.4082\n",
      "Epoch 17/200\n",
      "363/363 [==============================] - 1s 2ms/step - loss: 0.4013 - val_loss: 0.4270\n",
      "Epoch 18/200\n",
      "363/363 [==============================] - 1s 2ms/step - loss: 0.3984 - val_loss: 0.4276\n",
      "Epoch 19/200\n",
      "363/363 [==============================] - 1s 2ms/step - loss: 0.3950 - val_loss: 0.4114\n",
      "Epoch 20/200\n",
      "363/363 [==============================] - 1s 3ms/step - loss: 0.3929 - val_loss: 0.4684\n",
      "Epoch 21/200\n",
      "363/363 [==============================] - 1s 4ms/step - loss: 0.3905 - val_loss: 0.4434\n",
      "Epoch 22/200\n",
      "363/363 [==============================] - 1s 3ms/step - loss: 0.3882 - val_loss: 0.4599\n",
      "Epoch 23/200\n",
      "363/363 [==============================] - 1s 4ms/step - loss: 0.3860 - val_loss: 0.3919\n",
      "Epoch 24/200\n",
      "363/363 [==============================] - 1s 1ms/step - loss: 0.3839 - val_loss: 0.4107\n",
      "Epoch 25/200\n",
      "363/363 [==============================] - 1s 1ms/step - loss: 0.3818 - val_loss: 0.4602\n",
      "Epoch 26/200\n",
      "363/363 [==============================] - 1s 2ms/step - loss: 0.3805 - val_loss: 0.4477\n",
      "Epoch 27/200\n",
      "363/363 [==============================] - 1s 2ms/step - loss: 0.3790 - val_loss: 0.3914\n",
      "Epoch 28/200\n",
      "363/363 [==============================] - 1s 2ms/step - loss: 0.3773 - val_loss: 0.4268\n",
      "Epoch 29/200\n",
      "363/363 [==============================] - 1s 2ms/step - loss: 0.3759 - val_loss: 0.3951\n",
      "Epoch 30/200\n",
      "363/363 [==============================] - 1s 2ms/step - loss: 0.3743 - val_loss: 0.4207\n",
      "Epoch 31/200\n",
      "363/363 [==============================] - 1s 2ms/step - loss: 0.3726 - val_loss: 0.4022\n",
      "Epoch 32/200\n",
      "363/363 [==============================] - 1s 3ms/step - loss: 0.3713 - val_loss: 0.4228\n",
      "Epoch 33/200\n",
      "363/363 [==============================] - 1s 3ms/step - loss: 0.3706 - val_loss: 0.3825\n",
      "Epoch 34/200\n",
      "363/363 [==============================] - 1s 3ms/step - loss: 0.3689 - val_loss: 0.3755\n",
      "Epoch 35/200\n",
      "363/363 [==============================] - 1s 3ms/step - loss: 0.3678 - val_loss: 0.4137\n",
      "Epoch 36/200\n",
      "363/363 [==============================] - 1s 3ms/step - loss: 0.3668 - val_loss: 0.3618\n",
      "Epoch 37/200\n",
      "363/363 [==============================] - 1s 3ms/step - loss: 0.3657 - val_loss: 0.3875\n",
      "Epoch 38/200\n",
      "363/363 [==============================] - 1s 3ms/step - loss: 0.3646 - val_loss: 0.3708\n",
      "Epoch 39/200\n",
      "363/363 [==============================] - 1s 4ms/step - loss: 0.3637 - val_loss: 0.3583\n",
      "Epoch 40/200\n",
      "363/363 [==============================] - 1s 4ms/step - loss: 0.3626 - val_loss: 0.3792\n",
      "Epoch 41/200\n",
      "363/363 [==============================] - 1s 3ms/step - loss: 0.3619 - val_loss: 0.3947\n",
      "Epoch 42/200\n",
      "363/363 [==============================] - 1s 3ms/step - loss: 0.3612 - val_loss: 0.3885\n",
      "Epoch 43/200\n",
      "363/363 [==============================] - 1s 2ms/step - loss: 0.3600 - val_loss: 0.3933\n",
      "Epoch 44/200\n",
      "363/363 [==============================] - 1s 1ms/step - loss: 0.3591 - val_loss: 0.4010\n",
      "Epoch 45/200\n",
      "363/363 [==============================] - 1s 1ms/step - loss: 0.3587 - val_loss: 0.3646\n",
      "Epoch 46/200\n",
      "363/363 [==============================] - 1s 2ms/step - loss: 0.3576 - val_loss: 0.3621\n",
      "Epoch 47/200\n",
      "363/363 [==============================] - 1s 2ms/step - loss: 0.3570 - val_loss: 0.3775\n",
      "Epoch 48/200\n",
      "363/363 [==============================] - 1s 3ms/step - loss: 0.3563 - val_loss: 0.3914\n",
      "Epoch 49/200\n",
      "363/363 [==============================] - 1s 3ms/step - loss: 0.3560 - val_loss: 0.3631\n"
     ]
    }
   ],
   "source": [
    "history = model.fit(X_train, y_train, epochs=200,\n",
    "                    validation_data=(X_valid, y_valid),\n",
    "                    callbacks=[checkpoint_cb, early_stopping_cb])"
   ]
  },
  {
   "cell_type": "code",
   "execution_count": 100,
   "metadata": {},
   "outputs": [
    {
     "name": "stdout",
     "output_type": "stream",
     "text": [
      "162/162 [==============================] - 1s 2ms/step - loss: 0.3607\n"
     ]
    }
   ],
   "source": [
    "model = keras.models.load_model(\"early_stop_model.h5\")\n",
    "mse_test = model.evaluate(X_test, y_test)"
   ]
  },
  {
   "cell_type": "code",
   "execution_count": 4,
   "metadata": {},
   "outputs": [
    {
     "ename": "NameError",
     "evalue": "name 'model' is not defined",
     "output_type": "error",
     "traceback": [
      "\u001b[1;31m---------------------------------------------------------------------------\u001b[0m",
      "\u001b[1;31mNameError\u001b[0m                                 Traceback (most recent call last)",
      "Cell \u001b[1;32mIn[4], line 1\u001b[0m\n\u001b[1;32m----> 1\u001b[0m mae_test \u001b[38;5;241m=\u001b[39m \u001b[43mmodel\u001b[49m\u001b[38;5;241m.\u001b[39mevaluate(X_test, y_test)\n",
      "\u001b[1;31mNameError\u001b[0m: name 'model' is not defined"
     ]
    }
   ],
   "source": [
    "mae_test = model.evaluate(X_test, y_test)"
   ]
  },
  {
   "cell_type": "code",
   "execution_count": null,
   "metadata": {},
   "outputs": [],
   "source": []
  }
 ],
 "metadata": {
  "kernelspec": {
   "display_name": "Python 3 (ipykernel)",
   "language": "python",
   "name": "python3"
  },
  "language_info": {
   "codemirror_mode": {
    "name": "ipython",
    "version": 3
   },
   "file_extension": ".py",
   "mimetype": "text/x-python",
   "name": "python",
   "nbconvert_exporter": "python",
   "pygments_lexer": "ipython3",
   "version": "3.9.17"
  }
 },
 "nbformat": 4,
 "nbformat_minor": 2
}
